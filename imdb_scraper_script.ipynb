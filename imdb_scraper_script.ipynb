{
 "cells": [
  {
   "cell_type": "code",
   "execution_count": 1,
   "metadata": {
    "collapsed": true
   },
   "outputs": [
    {
     "name": "stdout",
     "output_type": "stream",
     "text": [
      "Requests: 32; Frequency: 0.09639800190262798\n"
     ]
    }
   ],
   "source": [
    "from bs4 import BeautifulSoup\n",
    "import requests\n",
    "import time\n",
    "from random import randint\n",
    "from IPython.core.display import clear_output\n",
    "from warnings import warn\n",
    "\n",
    "pages = [str(i) for i in range(1, 5)]\n",
    "years_url = [str(i) for i in range(2011, 2019)]\n",
    "\n",
    "names = []\n",
    "years = []\n",
    "imdb_ratings = []\n",
    "metascores = []\n",
    "votes = []\n",
    "\n",
    "start_time = time.time()\n",
    "reqs = 0\n",
    "\n",
    "# for every year in the interval 2011-2018\n",
    "for year_url in years_url:\n",
    "    for page in pages:\n",
    "        source = requests.get(f'http://www.imdb.com/search/title?release_date={year_url}&sort=num_votes,desc&page={page}')\n",
    "\n",
    "        time.sleep(randint(6, 12))\n",
    "\n",
    "        reqs += 1\n",
    "        elapsed_time = time.time() - start_time\n",
    "        print(f'Requests: {reqs}; Frequency: {reqs/elapsed_time}')\n",
    "        clear_output(wait=True)\n",
    "\n",
    "        # throw a warning for non 200 code\n",
    "        if source.status_code != 200:\n",
    "            warn(f'Request: {reqs}; Status code: {source.status_code}')\n",
    "\n",
    "        # break if num of reqs is greater than expected\n",
    "            if reqs > 72:\n",
    "                warn('Number of requestes was greater than expected.')\n",
    "                break\n",
    "\n",
    "        html_soup = BeautifulSoup(source.text, 'lxml')\n",
    "\n",
    "        movie_containers = html_soup.find_all('div', class_='lister-item mode-advanced')\n",
    "\n",
    "        for container in movie_containers:\n",
    "            if container.find('div', class_='ratings-metascore') is not None:\n",
    "                name = container.h3.a.text\n",
    "                names.append(name)\n",
    "\n",
    "                year = container.h3.find('span', class_='lister-item-year').text\n",
    "                years.append(year)\n",
    "\n",
    "                imdb = float(container.strong.text)\n",
    "                imdb_ratings.append(imdb)\n",
    "\n",
    "                m_score = container.find('span', class_='metascore').text\n",
    "                metascores.append(int(m_score))\n",
    "\n",
    "                vote = container.find('span', attrs={'name':'nv'})['data-value']\n",
    "                votes.append(int(vote))"
   ]
  },
  {
   "cell_type": "code",
   "execution_count": 3,
   "outputs": [
    {
     "name": "stdout",
     "output_type": "stream",
     "text": [
      "<class 'pandas.core.frame.DataFrame'>\n",
      "RangeIndex: 1444 entries, 0 to 1443\n",
      "Data columns (total 5 columns):\n",
      " #   Column     Non-Null Count  Dtype  \n",
      "---  ------     --------------  -----  \n",
      " 0   movie      1444 non-null   object \n",
      " 1   year       1444 non-null   object \n",
      " 2   imdb       1444 non-null   float64\n",
      " 3   metascore  1444 non-null   int64  \n",
      " 4   votes      1444 non-null   int64  \n",
      "dtypes: float64(1), int64(2), object(2)\n",
      "memory usage: 56.5+ KB\n",
      "None\n"
     ]
    }
   ],
   "source": [
    "import pandas as pd\n",
    "\n",
    "\n",
    "movie_ratings_df = pd.DataFrame({'movie': names,\n",
    "                                 'year': years,\n",
    "                                 'imdb': imdb_ratings,\n",
    "                                 'metascore': metascores,\n",
    "                                 'votes': votes})\n",
    "\n",
    "print(movie_ratings_df.info())\n",
    "movie_ratings_df.head(10)"
   ],
   "metadata": {
    "collapsed": false,
    "pycharm": {
     "name": "#%%\n"
    }
   }
  },
  {
   "cell_type": "code",
   "execution_count": 4,
   "outputs": [
    {
     "data": {
      "text/plain": "                                          movie    year  imdb  metascore  \\\n0  Harry Potter and the Deathly Hallows: Part 2  (2011)   8.1         85   \n1                                   Untouchable  (2011)   8.5         57   \n2                                          Thor  (2011)   7.0         57   \n3            Captain America: The First Avenger  (2011)   6.9         66   \n4                                X: First Class  (2011)   7.7         65   \n\n    votes  \n0  755671  \n1  749716  \n2  740266  \n3  733079  \n4  642219  ",
      "text/html": "<div>\n<style scoped>\n    .dataframe tbody tr th:only-of-type {\n        vertical-align: middle;\n    }\n\n    .dataframe tbody tr th {\n        vertical-align: top;\n    }\n\n    .dataframe thead th {\n        text-align: right;\n    }\n</style>\n<table border=\"1\" class=\"dataframe\">\n  <thead>\n    <tr style=\"text-align: right;\">\n      <th></th>\n      <th>movie</th>\n      <th>year</th>\n      <th>imdb</th>\n      <th>metascore</th>\n      <th>votes</th>\n    </tr>\n  </thead>\n  <tbody>\n    <tr>\n      <th>0</th>\n      <td>Harry Potter and the Deathly Hallows: Part 2</td>\n      <td>(2011)</td>\n      <td>8.1</td>\n      <td>85</td>\n      <td>755671</td>\n    </tr>\n    <tr>\n      <th>1</th>\n      <td>Untouchable</td>\n      <td>(2011)</td>\n      <td>8.5</td>\n      <td>57</td>\n      <td>749716</td>\n    </tr>\n    <tr>\n      <th>2</th>\n      <td>Thor</td>\n      <td>(2011)</td>\n      <td>7.0</td>\n      <td>57</td>\n      <td>740266</td>\n    </tr>\n    <tr>\n      <th>3</th>\n      <td>Captain America: The First Avenger</td>\n      <td>(2011)</td>\n      <td>6.9</td>\n      <td>66</td>\n      <td>733079</td>\n    </tr>\n    <tr>\n      <th>4</th>\n      <td>X: First Class</td>\n      <td>(2011)</td>\n      <td>7.7</td>\n      <td>65</td>\n      <td>642219</td>\n    </tr>\n  </tbody>\n</table>\n</div>"
     },
     "execution_count": 4,
     "metadata": {},
     "output_type": "execute_result"
    }
   ],
   "source": [
    "movie_ratings_df = movie_ratings_df[['movie', 'year', 'imdb', 'metascore', 'votes']]\n",
    "movie_ratings_df.head()"
   ],
   "metadata": {
    "collapsed": false,
    "pycharm": {
     "name": "#%%\n"
    }
   }
  },
  {
   "cell_type": "code",
   "execution_count": 7,
   "outputs": [],
   "source": [
    "# clean up data for the year\n",
    "movie_ratings_df['year'].unique()\n",
    "movie_ratings_df.loc[:, 'year'] = movie_ratings_df['year'].str[-5:-1].astype(int)"
   ],
   "metadata": {
    "collapsed": false,
    "pycharm": {
     "name": "#%%\n"
    }
   }
  },
  {
   "cell_type": "code",
   "execution_count": 8,
   "outputs": [
    {
     "data": {
      "text/plain": "0    2011\n1    2011\n2    2011\nName: year, dtype: int64"
     },
     "execution_count": 8,
     "metadata": {},
     "output_type": "execute_result"
    }
   ],
   "source": [
    "movie_ratings_df['year'].head(3)\n",
    "\n"
   ],
   "metadata": {
    "collapsed": false,
    "pycharm": {
     "name": "#%%\n"
    }
   }
  },
  {
   "cell_type": "code",
   "execution_count": 11,
   "outputs": [
    {
     "data": {
      "text/plain": "     imdb  metascore\nmin   4.1       27.0\nmax   8.6      100.0",
      "text/html": "<div>\n<style scoped>\n    .dataframe tbody tr th:only-of-type {\n        vertical-align: middle;\n    }\n\n    .dataframe tbody tr th {\n        vertical-align: top;\n    }\n\n    .dataframe thead th {\n        text-align: right;\n    }\n</style>\n<table border=\"1\" class=\"dataframe\">\n  <thead>\n    <tr style=\"text-align: right;\">\n      <th></th>\n      <th>imdb</th>\n      <th>metascore</th>\n    </tr>\n  </thead>\n  <tbody>\n    <tr>\n      <th>min</th>\n      <td>4.1</td>\n      <td>27.0</td>\n    </tr>\n    <tr>\n      <th>max</th>\n      <td>8.6</td>\n      <td>100.0</td>\n    </tr>\n  </tbody>\n</table>\n</div>"
     },
     "execution_count": 11,
     "metadata": {},
     "output_type": "execute_result"
    }
   ],
   "source": [
    "# check for the max and the min to see that there are no unexpected outliers\n",
    "movie_ratings_df.describe().loc[['min', 'max'], ['imdb', 'metascore']]"
   ],
   "metadata": {
    "collapsed": false,
    "pycharm": {
     "name": "#%%\n"
    }
   }
  },
  {
   "cell_type": "code",
   "execution_count": 13,
   "outputs": [
    {
     "data": {
      "text/plain": "                                          movie  year  imdb  metascore  \\\n0  Harry Potter and the Deathly Hallows: Part 2  2011   8.1         85   \n1                                   Untouchable  2011   8.5         57   \n2                                          Thor  2011   7.0         57   \n3            Captain America: The First Avenger  2011   6.9         66   \n4                                X: First Class  2011   7.7         65   \n\n    votes  n_imdb  \n0  755671    81.0  \n1  749716    85.0  \n2  740266    70.0  \n3  733079    69.0  \n4  642219    77.0  ",
      "text/html": "<div>\n<style scoped>\n    .dataframe tbody tr th:only-of-type {\n        vertical-align: middle;\n    }\n\n    .dataframe tbody tr th {\n        vertical-align: top;\n    }\n\n    .dataframe thead th {\n        text-align: right;\n    }\n</style>\n<table border=\"1\" class=\"dataframe\">\n  <thead>\n    <tr style=\"text-align: right;\">\n      <th></th>\n      <th>movie</th>\n      <th>year</th>\n      <th>imdb</th>\n      <th>metascore</th>\n      <th>votes</th>\n      <th>n_imdb</th>\n    </tr>\n  </thead>\n  <tbody>\n    <tr>\n      <th>0</th>\n      <td>Harry Potter and the Deathly Hallows: Part 2</td>\n      <td>2011</td>\n      <td>8.1</td>\n      <td>85</td>\n      <td>755671</td>\n      <td>81.0</td>\n    </tr>\n    <tr>\n      <th>1</th>\n      <td>Untouchable</td>\n      <td>2011</td>\n      <td>8.5</td>\n      <td>57</td>\n      <td>749716</td>\n      <td>85.0</td>\n    </tr>\n    <tr>\n      <th>2</th>\n      <td>Thor</td>\n      <td>2011</td>\n      <td>7.0</td>\n      <td>57</td>\n      <td>740266</td>\n      <td>70.0</td>\n    </tr>\n    <tr>\n      <th>3</th>\n      <td>Captain America: The First Avenger</td>\n      <td>2011</td>\n      <td>6.9</td>\n      <td>66</td>\n      <td>733079</td>\n      <td>69.0</td>\n    </tr>\n    <tr>\n      <th>4</th>\n      <td>X: First Class</td>\n      <td>2011</td>\n      <td>7.7</td>\n      <td>65</td>\n      <td>642219</td>\n      <td>77.0</td>\n    </tr>\n  </tbody>\n</table>\n</div>"
     },
     "execution_count": 13,
     "metadata": {},
     "output_type": "execute_result"
    }
   ],
   "source": [
    "# normalise imdb so both are on the same scale\n",
    "movie_ratings_df['n_imdb'] = movie_ratings_df['imdb'] * 10\n",
    "movie_ratings_df.head()\n"
   ],
   "metadata": {
    "collapsed": false,
    "pycharm": {
     "name": "#%%\n"
    }
   }
  },
  {
   "cell_type": "code",
   "execution_count": 16,
   "outputs": [],
   "source": [
    "# save data as csv\n",
    "movie_ratings_df.to_csv('./movie_ratings_df.csv')\n"
   ],
   "metadata": {
    "collapsed": false,
    "pycharm": {
     "name": "#%%\n"
    }
   }
  },
  {
   "cell_type": "code",
   "execution_count": 20,
   "outputs": [
    {
     "name": "stderr",
     "output_type": "stream",
     "text": [
      "No handles with labels found to put in legend.\n"
     ]
    },
    {
     "data": {
      "text/plain": "<Figure size 1152x288 with 3 Axes>",
      "image/png": "[encoded data removed]"
     },
     "metadata": {
      "needs_background": "light"
     },
     "output_type": "display_data"
    }
   ],
   "source": [
    "import matplotlib.pyplot as plt\n",
    "\n",
    "fig, axes = plt.subplots(nrows=1, ncols=3, figsize=(16,4))\n",
    "ax1, ax2, ax3 = fig.axes\n",
    "ax1.hist(movie_ratings_df['imdb'], bins = 10, range = (0,10))\n",
    "ax1.set_title('IMDB rating')\n",
    "ax2.hist(movie_ratings_df['metascore'], bins = 10, range = (0,100))\n",
    "ax2.set_title('Metascore')\n",
    "ax3.hist(movie_ratings_df['n_imdb'], bins = 10, range = (0,100), histtype = 'step')\n",
    "ax3.hist(movie_ratings_df['metascore'], bins = 10, range = (0,100), histtype = 'step')\n",
    "ax3.legend(loc = 'upper left')\n",
    "ax3.set_title('The Two Normalized Distributions')\n",
    "for ax in fig.axes:\n",
    "    ax.spines['top'].set_visible(False)\n",
    "    ax.spines['right'].set_visible(False)\n",
    "plt.show()"
   ],
   "metadata": {
    "collapsed": false,
    "pycharm": {
     "name": "#%%\n"
    }
   }
  }
 ],
 "metadata": {
  "kernelspec": {
   "display_name": "Python 3",
   "language": "python",
   "name": "python3"
  },
  "language_info": {
   "codemirror_mode": {
    "name": "ipython",
    "version": 2
   },
   "file_extension": ".py",
   "mimetype": "text/x-python",
   "name": "python",
   "nbconvert_exporter": "python",
   "pygments_lexer": "ipython2",
   "version": "2.7.6"
  }
 },
 "nbformat": 4,
 "nbformat_minor": 0
}